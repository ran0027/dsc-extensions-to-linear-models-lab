{
 "cells": [
  {
   "cell_type": "markdown",
   "metadata": {},
   "source": [
    "# Extensions to Linear Models - Lab"
   ]
  },
  {
   "cell_type": "markdown",
   "metadata": {},
   "source": [
    "## Introduction\n",
    "\n",
    "In this lab, you'll practice many concepts you have learned so far, from adding interactions and polynomials to your model to regularization!"
   ]
  },
  {
   "cell_type": "markdown",
   "metadata": {},
   "source": [
    "## Summary\n",
    "\n",
    "You will be able to:\n",
    "\n",
    "- Build a linear regression model with interactions and polynomial features \n",
    "- Use feature selection to obtain the optimal subset of features in a dataset"
   ]
  },
  {
   "cell_type": "markdown",
   "metadata": {},
   "source": [
    "## Let's Get Started!\n",
    "\n",
    "Below we import all the necessary packages for this lab."
   ]
  },
  {
   "cell_type": "code",
   "execution_count": 1,
   "metadata": {},
   "outputs": [],
   "source": [
    "# Run this cell without changes\n",
    "\n",
    "import pandas as pd\n",
    "import numpy as np\n",
    "import matplotlib.pyplot as plt\n",
    "import warnings\n",
    "warnings.filterwarnings('ignore')\n",
    "from itertools import combinations\n",
    "\n",
    "from sklearn.feature_selection import RFE\n",
    "from sklearn.linear_model import LinearRegression, Lasso\n",
    "from sklearn.metrics import mean_squared_error\n",
    "from sklearn.model_selection import train_test_split\n",
    "from sklearn.preprocessing import StandardScaler, PolynomialFeatures"
   ]
  },
  {
   "cell_type": "markdown",
   "metadata": {},
   "source": [
    "Load the data."
   ]
  },
  {
   "cell_type": "code",
   "execution_count": 2,
   "metadata": {},
   "outputs": [],
   "source": [
    "# Run this cell without changes\n",
    "\n",
    "# Load data from CSV\n",
    "df = pd.read_csv(\"ames.csv\")\n",
    "# Subset columns\n",
    "df = df[['LotArea', 'OverallQual', 'OverallCond', 'TotalBsmtSF',\n",
    "         '1stFlrSF', '2ndFlrSF', 'GrLivArea', 'TotRmsAbvGrd',\n",
    "         'GarageArea', 'Fireplaces', 'SalePrice']]\n",
    "\n",
    "# Split the data into X and y\n",
    "y = df['SalePrice']\n",
    "X = df.drop(columns='SalePrice')\n",
    "\n",
    "# Split into train, test, and validation sets\n",
    "X_train, X_val, y_train, y_val = train_test_split(X, y, random_state=42)\n",
    "X_train, X_test, y_train, y_test = train_test_split(X_train, y_train, random_state=0)"
   ]
  },
  {
   "cell_type": "markdown",
   "metadata": {},
   "source": [
    "## Build a Baseline Housing Data Model"
   ]
  },
  {
   "cell_type": "markdown",
   "metadata": {},
   "source": [
    "Above, we imported the Ames housing data and grabbed a subset of the data to use in this analysis.\n",
    "\n",
    "Next steps:\n",
    "\n",
    "- Scale all the predictors using `StandardScaler`, then convert these scaled features back into DataFrame objects\n",
    "- Build a baseline `LinearRegression` model using *scaled variables* as predictors and use the $R^2$ score to evaluate the model "
   ]
  },
  {
   "cell_type": "code",
   "execution_count": 3,
   "metadata": {},
   "outputs": [],
   "source": [
    "# select numerical features (not actually necessary since all are numerical =) )\n",
    "X_train_cont = X_train.select_dtypes(include='number')\n",
    "\n",
    "# instantiate standard scaler\n",
    "scaler = StandardScaler()\n",
    "\n",
    "# fit to & transform training data; also make the output a dataframe with same columns as X_train_cont\n",
    "X_train = pd.DataFrame(scaler.fit_transform(X_train_cont), columns=X_train_cont.columns)"
   ]
  },
  {
   "cell_type": "code",
   "execution_count": 4,
   "metadata": {},
   "outputs": [
    {
     "name": "stdout",
     "output_type": "stream",
     "text": [
      "      LotArea  OverallQual  OverallCond  TotalBsmtSF  1stFlrSF  2ndFlrSF  \\\n",
      "0   -0.114710    -0.099842    -0.509252    -0.639316 -0.804789  1.261552   \n",
      "1   -0.176719     0.632038    -0.509252     0.838208  0.641608 -0.808132   \n",
      "2   -0.246336    -0.831723     1.304613    -0.012560 -0.329000 -0.808132   \n",
      "3   -0.378617    -0.831723     1.304613    -0.339045 -0.609036 -0.808132   \n",
      "4   -0.010898    -1.563603     1.304613    -2.531499 -1.315922  0.550523   \n",
      "..        ...          ...          ...          ...       ...       ...   \n",
      "816 -0.532331    -0.099842    -0.509252    -0.510628 -0.897228 -0.808132   \n",
      "817 -0.309245    -0.099842    -0.509252     0.514106  0.315353 -0.808132   \n",
      "818  0.119419     0.632038    -0.509252    -0.513011 -0.899947  1.684999   \n",
      "819 -0.002718    -0.099842     1.304613    -0.889542 -1.329516  0.783758   \n",
      "820  0.086287    -0.099842     0.397681     0.433080  0.179414 -0.808132   \n",
      "\n",
      "     GrLivArea  TotRmsAbvGrd  GarageArea  Fireplaces  \n",
      "0     0.499114      0.250689    0.327629   -0.994820  \n",
      "1    -0.247249     -0.365525    0.079146   -0.994820  \n",
      "2    -0.944766     -0.981739   -1.105931   -0.994820  \n",
      "3    -1.146010     -0.981739   -1.134602    0.588023  \n",
      "4    -0.481708      0.250689   -2.281450   -0.994820  \n",
      "..         ...           ...         ...         ...  \n",
      "816  -1.353116     -2.214167   -0.274466    0.588023  \n",
      "817  -0.481708     -0.365525    0.088703   -0.994820  \n",
      "818   0.796096      0.866903   -0.207566    0.588023  \n",
      "819  -0.290233     -0.365525   -0.852668   -0.994820  \n",
      "820  -0.579400     -0.365525   -0.675863    2.170867  \n",
      "\n",
      "[821 rows x 10 columns]\n",
      "      LotArea  OverallQual  OverallCond  TotalBsmtSF  1stFlrSF  2ndFlrSF  \\\n",
      "0   -0.491264    -0.099842     0.397681    -0.248487 -0.598161 -0.808132   \n",
      "1   -0.619291     0.632038    -0.509252    -0.205591 -0.549222  0.849426   \n",
      "2    0.240165    -0.099842     0.397681    -0.639316 -1.044043  0.722619   \n",
      "3    0.037695     2.095798    -3.230050     1.891539  1.843314 -0.808132   \n",
      "4   -0.147924     0.632038    -0.509252    -1.616388 -0.995104  0.709032   \n",
      "..        ...          ...          ...          ...       ...       ...   \n",
      "269 -0.285276    -1.563603    -0.509252    -0.653614 -1.060355 -0.808132   \n",
      "270 -0.029714     1.363918     2.211546    -0.498713  1.008645  1.859359   \n",
      "271 -0.741509    -0.099842     0.397681    -1.380461 -1.889587  0.333138   \n",
      "272 -0.147106    -0.099842    -0.509252     1.476879  1.419183 -0.808132   \n",
      "273 -0.025214     0.632038     0.397681    -0.022092 -0.013620 -0.808132   \n",
      "\n",
      "     GrLivArea  TotRmsAbvGrd  GarageArea  Fireplaces  \n",
      "0    -1.138195     -0.981739   -0.178895   -0.994820  \n",
      "1     0.327177      0.250689   -0.465607   -0.994820  \n",
      "2    -0.137834     -0.365525   -0.427379   -0.994820  \n",
      "3     0.616344      0.866903    1.703847    0.588023  \n",
      "4    -0.114388      0.250689   -0.408265    0.588023  \n",
      "..         ...           ...         ...         ...  \n",
      "269  -1.470346     -1.597953   -2.281450    2.170867  \n",
      "270   2.318130      2.099330   -0.178895    2.170867  \n",
      "271  -1.081534     -0.981739   -0.943461   -0.994820  \n",
      "272   0.311547      0.250689    0.318072   -0.994820  \n",
      "273  -0.718122     -0.365525    0.241616    2.170867  \n",
      "\n",
      "[274 rows x 10 columns]\n"
     ]
    }
   ],
   "source": [
    "# Your code here\n",
    "\n",
    "# Scale X_train and X_test using StandardScaler\n",
    "X_test = pd.DataFrame(scaler.transform(X_test), columns=X_test.columns)\n",
    "\n",
    "# Ensure X_train and X_test are scaled DataFrames\n",
    "# (hint: you can set the columns using X.columns)\n",
    "print(X_train)\n",
    "print(X_test)"
   ]
  },
  {
   "cell_type": "code",
   "execution_count": 5,
   "metadata": {},
   "outputs": [
    {
     "name": "stdout",
     "output_type": "stream",
     "text": [
      "Baseline R2: 0.7868344817421309\n"
     ]
    }
   ],
   "source": [
    "# Your code here\n",
    "\n",
    "# Create a LinearRegression model and fit it on scaled training data\n",
    "# instantiate\n",
    "linreg = LinearRegression()\n",
    "linreg.fit(X_train, y_train)\n",
    "\n",
    "# Calculate a baseline r-squared score on training data\n",
    "print(f'Baseline R2: {linreg.score(X_train, y_train)}')"
   ]
  },
  {
   "cell_type": "markdown",
   "metadata": {},
   "source": [
    "## Add Interactions\n",
    "\n",
    "Instead of adding all possible interaction terms, let's try a custom technique. We are only going to add the interaction terms that increase the $R^2$ score as much as possible. Specifically we are going to look for the 7 interaction terms that each cause the most increase in the coefficient of determination.\n",
    "\n",
    "### Find the Best Interactions\n",
    "\n",
    "Look at all the possible combinations of variables for interactions by adding interactions one by one to the baseline model. Create a data structure that stores the pair of columns used as well as the $R^2$ score for each combination.\n",
    "\n",
    "***Hint:*** We have imported the `combinations` function from `itertools` for you ([documentation here](https://docs.python.org/3/library/itertools.html#itertools.combinations)). Try applying this to the columns of `X_train` to find all of the possible pairs.\n",
    "\n",
    "Print the 7 interactions that result in the highest $R^2$ scores."
   ]
  },
  {
   "cell_type": "code",
   "execution_count": 6,
   "metadata": {},
   "outputs": [],
   "source": [
    "# Your code here\n",
    "\n",
    "# Set up data structure\n",
    "R2_pairs = {}\n",
    "\n",
    "# make pair a key for value R2\n",
    "\n",
    "# Find combinations of columns and loop over them\n",
    "for pair in combinations(X_train.columns, 2):\n",
    "    # Make copies of X_train and X_test\n",
    "    X_train_c = X_train.copy()\n",
    "    X_test_c = X_test.copy()\n",
    "    \n",
    "    # Add interaction term to data\n",
    "    X_train_c['interaction'] = X_train_c[pair[0]]*X_train_c[pair[1]]\n",
    "    X_test_c['interaction'] = X_test_c[pair[0]]*X_test_c[pair[1]]\n",
    "    \n",
    "    # Find r-squared score (fit on training data, evaluate on test data)\n",
    "    lr = LinearRegression()\n",
    "    lr.fit(X_train_c, y_train)\n",
    "    R2 = lr.score(X_test_c, y_test)\n",
    "    \n",
    "    # Append to data structure\n",
    "    R2_pairs[pair] = R2\n",
    "    \n",
    "# Sort and subset the data structure to find the top 7\n",
    "top_7_interactions = sorted(R2_pairs.items(), key = lambda kv: kv[1], reverse=True)[:7]"
   ]
  },
  {
   "cell_type": "code",
   "execution_count": 7,
   "metadata": {},
   "outputs": [
    {
     "name": "stdout",
     "output_type": "stream",
     "text": [
      "0.7211105666140569\n",
      "0.7071649207050108\n",
      "0.6690980823779027\n",
      "0.6529699515652585\n",
      "0.647299489040519\n",
      "0.6429019879233769\n",
      "0.6422324294284367\n"
     ]
    }
   ],
   "source": [
    "# check results\n",
    "\n",
    "for pair in top_7_interactions:\n",
    "    print(R2_pairs[pair[0]])"
   ]
  },
  {
   "cell_type": "markdown",
   "metadata": {},
   "source": [
    "### Add the Best Interactions\n",
    "\n",
    "Write code to include the 7 most important interactions in `X_train` and `X_test` by adding 7 columns. Use the naming convention `\"col1_col2\"`, where `col1` and `col2` are the two columns in the interaction."
   ]
  },
  {
   "cell_type": "code",
   "execution_count": 40,
   "metadata": {},
   "outputs": [
    {
     "name": "stdout",
     "output_type": "stream",
     "text": [
      "LotArea\n",
      "LotArea\n",
      "LotArea\n",
      "LotArea\n",
      "2ndFlrSF\n",
      "OverallCond\n",
      "OverallQual\n"
     ]
    }
   ],
   "source": [
    "for pair in top_7_interactions:\n",
    "    print(pair[0][0])"
   ]
  },
  {
   "cell_type": "code",
   "execution_count": 8,
   "metadata": {},
   "outputs": [],
   "source": [
    "# Your code here\n",
    "\n",
    "# Loop over top 7 interactions\n",
    "for pair in top_7_interactions:\n",
    "    \n",
    "    # Extract column names from data structure\n",
    "    col1 = pair[0][0]\n",
    "    col2 = pair[0][1]\n",
    "    \n",
    "    # Construct new column name\n",
    "    col_name = col1 + '_' + col2\n",
    "    \n",
    "    # Add new column to X_train and X_test\n",
    "    X_train[col_name] = X_train[col1]*X_train[col2]\n",
    "    X_test[col_name] = X_test[col1]*X_test[col2]"
   ]
  },
  {
   "cell_type": "markdown",
   "metadata": {},
   "source": [
    "## Add Polynomials\n",
    "\n",
    "Now let's repeat that process for adding polynomial terms.\n",
    "\n",
    "### Find the Best Polynomials\n",
    "\n",
    "Try polynomials of degrees 2, 3, and 4 for each variable, in a similar way you did for interactions (by looking at your baseline model and seeing how $R^2$ increases). Do understand that when going for a polynomial of degree 4 with `PolynomialFeatures`, the particular column is raised to the power of 2 and 3 as well in other terms.\n",
    "\n",
    "We only want to include \"pure\" polynomials, so make sure no interactions are included.\n",
    "\n",
    "Once again you should make a data structure that contains the values you have tested. We recommend a list of tuples of the form:\n",
    "\n",
    "`(col_name, degree, R2)`, so eg. `('OverallQual', 2, 0.781)` "
   ]
  },
  {
   "cell_type": "code",
   "execution_count": 14,
   "metadata": {},
   "outputs": [
    {
     "data": {
      "text/plain": [
       "0     -0.114710\n",
       "1     -0.176719\n",
       "2     -0.246336\n",
       "3     -0.378617\n",
       "4     -0.010898\n",
       "         ...   \n",
       "816   -0.532331\n",
       "817   -0.309245\n",
       "818    0.119419\n",
       "819   -0.002718\n",
       "820    0.086287\n",
       "Name: LotArea, Length: 821, dtype: float64"
      ]
     },
     "execution_count": 14,
     "metadata": {},
     "output_type": "execute_result"
    }
   ],
   "source": [
    "my_X_train['LotArea']"
   ]
  },
  {
   "cell_type": "code",
   "execution_count": 10,
   "metadata": {},
   "outputs": [],
   "source": [
    "test_poly = PolynomialFeatures(2, include_bias=False)"
   ]
  },
  {
   "cell_type": "code",
   "execution_count": 13,
   "metadata": {},
   "outputs": [
    {
     "data": {
      "text/plain": [
       "array([[-1.14710362e-01,  1.31584671e-02],\n",
       "       [-1.76719426e-01,  3.12297555e-02],\n",
       "       [-2.46336462e-01,  6.06816527e-02],\n",
       "       ...,\n",
       "       [ 1.19418849e-01,  1.42608615e-02],\n",
       "       [-2.71773792e-03,  7.38609940e-06],\n",
       "       [ 8.62873569e-02,  7.44550796e-03]])"
      ]
     },
     "execution_count": 13,
     "metadata": {},
     "output_type": "execute_result"
    }
   ],
   "source": [
    "test_poly.fit_transform(my_X_train[['LotArea']])"
   ]
  },
  {
   "cell_type": "code",
   "execution_count": 15,
   "metadata": {},
   "outputs": [
    {
     "name": "stdout",
     "output_type": "stream",
     "text": [
      "[('GrLivArea', 3, 0.8283344365591123), ('OverallQual_2ndFlrSF', 3, 0.8222074062501774), ('LotArea_Fireplaces', 4, 0.8126598088713186), ('LotArea_Fireplaces', 3, 0.8124111133929935), ('OverallQual', 3, 0.8068023565969222), ('OverallQual_2ndFlrSF', 2, 0.8057607786926376), ('OverallQual', 4, 0.8033455378866856)]\n"
     ]
    }
   ],
   "source": [
    "# Your code here\n",
    "\n",
    "# Set up data structure\n",
    "results = []\n",
    "\n",
    "# Loop over all columns\n",
    "for col in X_train.columns:\n",
    "    # Loop over degrees 2, 3, 4\n",
    "        for degree in [2, 3, 4]:\n",
    "        # Make a copy of X_train and X_test\n",
    "            my_X_train = X_train.copy()\n",
    "            my_X_test = X_test.copy()\n",
    "        # Instantiate PolynomialFeatures with relevant degree\n",
    "            poly = PolynomialFeatures(degree, include_bias=False)\n",
    "        # Fit polynomial to column and transform column\n",
    "            poly_col_train = pd.DataFrame(poly.fit_transform(my_X_train[[col]]))\n",
    "            poly_col_test = pd.DataFrame(poly.transform(my_X_test[[col]]))\n",
    "        \n",
    "        # Add polynomial to data\n",
    "            col_name = f'poly_{col}'\n",
    "            my_X_train = pd.concat([my_X_train.drop([col], axis=1), poly_col_train], axis=1)\n",
    "            my_X_test = pd.concat([my_X_test.drop([col], axis=1), poly_col_test], axis=1)\n",
    "        # Hint: use pd.concat since you're combining two DataFrames\n",
    "        # Hint: drop the column before combining so it doesn't appear twice\n",
    "    \n",
    "        # Find r-squared score\n",
    "            lr = LinearRegression()\n",
    "            lr.fit(my_X_train, y_train)\n",
    "            R2 = lr.score(my_X_test, y_test)\n",
    "        # Append to data structure\n",
    "            results.append((col, degree, R2))\n",
    "# Sort and subset the data structure to find the top 7\n",
    "top_7 = sorted(results, key = lambda x: x[2], reverse=True)[:7]\n",
    "print(top_7)"
   ]
  },
  {
   "cell_type": "markdown",
   "metadata": {},
   "source": [
    "### Add the Best Polynomials\n",
    "\n",
    "If there are duplicate column values in the results above, don't add multiple of them to the model, to avoid creating duplicate columns. (For example, if column `A` appeared in your list as both a 2nd and 3rd degree polynomial, adding both would result in `A` squared being added to the features twice.) Just add in the polynomial that results in the highest R-Squared."
   ]
  },
  {
   "cell_type": "code",
   "execution_count": 17,
   "metadata": {},
   "outputs": [
    {
     "data": {
      "text/html": [
       "<div>\n",
       "<style scoped>\n",
       "    .dataframe tbody tr th:only-of-type {\n",
       "        vertical-align: middle;\n",
       "    }\n",
       "\n",
       "    .dataframe tbody tr th {\n",
       "        vertical-align: top;\n",
       "    }\n",
       "\n",
       "    .dataframe thead th {\n",
       "        text-align: right;\n",
       "    }\n",
       "</style>\n",
       "<table border=\"1\" class=\"dataframe\">\n",
       "  <thead>\n",
       "    <tr style=\"text-align: right;\">\n",
       "      <th></th>\n",
       "      <th>Column</th>\n",
       "      <th>Degree</th>\n",
       "      <th>R^2</th>\n",
       "    </tr>\n",
       "  </thead>\n",
       "  <tbody>\n",
       "    <tr>\n",
       "      <th>0</th>\n",
       "      <td>GrLivArea</td>\n",
       "      <td>3</td>\n",
       "      <td>0.828334</td>\n",
       "    </tr>\n",
       "    <tr>\n",
       "      <th>1</th>\n",
       "      <td>OverallQual_2ndFlrSF</td>\n",
       "      <td>3</td>\n",
       "      <td>0.822207</td>\n",
       "    </tr>\n",
       "    <tr>\n",
       "      <th>2</th>\n",
       "      <td>LotArea_Fireplaces</td>\n",
       "      <td>4</td>\n",
       "      <td>0.812660</td>\n",
       "    </tr>\n",
       "    <tr>\n",
       "      <th>3</th>\n",
       "      <td>LotArea_Fireplaces</td>\n",
       "      <td>3</td>\n",
       "      <td>0.812411</td>\n",
       "    </tr>\n",
       "    <tr>\n",
       "      <th>4</th>\n",
       "      <td>OverallQual</td>\n",
       "      <td>3</td>\n",
       "      <td>0.806802</td>\n",
       "    </tr>\n",
       "    <tr>\n",
       "      <th>5</th>\n",
       "      <td>OverallQual_2ndFlrSF</td>\n",
       "      <td>2</td>\n",
       "      <td>0.805761</td>\n",
       "    </tr>\n",
       "    <tr>\n",
       "      <th>6</th>\n",
       "      <td>OverallQual</td>\n",
       "      <td>4</td>\n",
       "      <td>0.803346</td>\n",
       "    </tr>\n",
       "  </tbody>\n",
       "</table>\n",
       "</div>"
      ],
      "text/plain": [
       "                 Column  Degree       R^2\n",
       "0             GrLivArea       3  0.828334\n",
       "1  OverallQual_2ndFlrSF       3  0.822207\n",
       "2    LotArea_Fireplaces       4  0.812660\n",
       "3    LotArea_Fireplaces       3  0.812411\n",
       "4           OverallQual       3  0.806802\n",
       "5  OverallQual_2ndFlrSF       2  0.805761\n",
       "6           OverallQual       4  0.803346"
      ]
     },
     "execution_count": 17,
     "metadata": {},
     "output_type": "execute_result"
    }
   ],
   "source": [
    "# Convert to DataFrame for easier manipulation\n",
    "top_polynomials = pd.DataFrame(top_7, columns=[\"Column\", \"Degree\", \"R^2\"])\n",
    "top_polynomials"
   ]
  },
  {
   "cell_type": "code",
   "execution_count": 18,
   "metadata": {},
   "outputs": [
    {
     "data": {
      "text/html": [
       "<div>\n",
       "<style scoped>\n",
       "    .dataframe tbody tr th:only-of-type {\n",
       "        vertical-align: middle;\n",
       "    }\n",
       "\n",
       "    .dataframe tbody tr th {\n",
       "        vertical-align: top;\n",
       "    }\n",
       "\n",
       "    .dataframe thead th {\n",
       "        text-align: right;\n",
       "    }\n",
       "</style>\n",
       "<table border=\"1\" class=\"dataframe\">\n",
       "  <thead>\n",
       "    <tr style=\"text-align: right;\">\n",
       "      <th></th>\n",
       "      <th>Column</th>\n",
       "      <th>Degree</th>\n",
       "      <th>R^2</th>\n",
       "    </tr>\n",
       "  </thead>\n",
       "  <tbody>\n",
       "    <tr>\n",
       "      <th>0</th>\n",
       "      <td>GrLivArea</td>\n",
       "      <td>3</td>\n",
       "      <td>0.828334</td>\n",
       "    </tr>\n",
       "    <tr>\n",
       "      <th>1</th>\n",
       "      <td>OverallQual_2ndFlrSF</td>\n",
       "      <td>3</td>\n",
       "      <td>0.822207</td>\n",
       "    </tr>\n",
       "    <tr>\n",
       "      <th>2</th>\n",
       "      <td>LotArea_Fireplaces</td>\n",
       "      <td>4</td>\n",
       "      <td>0.812660</td>\n",
       "    </tr>\n",
       "    <tr>\n",
       "      <th>4</th>\n",
       "      <td>OverallQual</td>\n",
       "      <td>3</td>\n",
       "      <td>0.806802</td>\n",
       "    </tr>\n",
       "  </tbody>\n",
       "</table>\n",
       "</div>"
      ],
      "text/plain": [
       "                 Column  Degree       R^2\n",
       "0             GrLivArea       3  0.828334\n",
       "1  OverallQual_2ndFlrSF       3  0.822207\n",
       "2    LotArea_Fireplaces       4  0.812660\n",
       "4           OverallQual       3  0.806802"
      ]
     },
     "execution_count": 18,
     "metadata": {},
     "output_type": "execute_result"
    }
   ],
   "source": [
    "# Drop duplicate columns\n",
    "top_polynomials.drop_duplicates(subset=\"Column\", inplace=True)\n",
    "top_polynomials"
   ]
  },
  {
   "cell_type": "code",
   "execution_count": 19,
   "metadata": {},
   "outputs": [],
   "source": [
    "# Loop over remaining results\n",
    "for (col, degree, _) in top_polynomials.values:\n",
    "    # Create polynomial terms\n",
    "    poly = PolynomialFeatures(degree, include_bias=False)\n",
    "    col_transformed_train = pd.DataFrame(poly.fit_transform(X_train[[col]]),\n",
    "                                        columns=poly.get_feature_names([col]))\n",
    "    col_transformed_test = pd.DataFrame(poly.transform(X_test[[col]]),\n",
    "                                    columns=poly.get_feature_names([col]))\n",
    "    # Concat new polynomials to X_train and X_test\n",
    "    X_train = pd.concat([X_train.drop(col, axis=1), col_transformed_train], axis=1)\n",
    "    X_test = pd.concat([X_test.drop(col, axis=1), col_transformed_test], axis=1)"
   ]
  },
  {
   "cell_type": "code",
   "execution_count": 72,
   "metadata": {},
   "outputs": [],
   "source": [
    "# Your code here\n",
    "\n",
    "# Filter out duplicates\n",
    "# add OverallQual_2ndFlrSF with degree 2, OverallQual with degree 2, and 2ndFlrSF_TotRmsAbvGrd with degree 2\n",
    "# for col in [x[0] for x in top_7]:\n",
    "\n",
    "# Loop over remaining results\n",
    "poly = PolynomialFeatures(2)\n",
    "for col in ['OverallQual_2ndFlrSF', 'OverallQual', '2ndFlrSF_TotRmsAbvGrd']:\n",
    "    # Create polynomial terms\n",
    "    col_name = f'poly_{col}'\n",
    "    X_train[col_name] = pd.DataFrame(poly.fit_transform(X_train[[col]])).loc[:,2]\n",
    "    X_test[col_name] = pd.DataFrame(poly.transform(X_test[[col]])).loc[:,2]\n",
    "    # Concat new polynomials to X_train and X_test\n",
    "    "
   ]
  },
  {
   "cell_type": "markdown",
   "metadata": {},
   "source": [
    "Check out your final data set and make sure that your interaction terms as well as your polynomial terms are included."
   ]
  },
  {
   "cell_type": "code",
   "execution_count": 20,
   "metadata": {},
   "outputs": [
    {
     "name": "stdout",
     "output_type": "stream",
     "text": [
      "<class 'pandas.core.frame.DataFrame'>\n",
      "RangeIndex: 821 entries, 0 to 820\n",
      "Data columns (total 26 columns):\n",
      " #   Column                   Non-Null Count  Dtype  \n",
      "---  ------                   --------------  -----  \n",
      " 0   LotArea                  821 non-null    float64\n",
      " 1   OverallCond              821 non-null    float64\n",
      " 2   TotalBsmtSF              821 non-null    float64\n",
      " 3   1stFlrSF                 821 non-null    float64\n",
      " 4   2ndFlrSF                 821 non-null    float64\n",
      " 5   TotRmsAbvGrd             821 non-null    float64\n",
      " 6   GarageArea               821 non-null    float64\n",
      " 7   Fireplaces               821 non-null    float64\n",
      " 8   LotArea_1stFlrSF         821 non-null    float64\n",
      " 9   LotArea_TotalBsmtSF      821 non-null    float64\n",
      " 10  LotArea_GrLivArea        821 non-null    float64\n",
      " 11  2ndFlrSF_TotRmsAbvGrd    821 non-null    float64\n",
      " 12  OverallCond_TotalBsmtSF  821 non-null    float64\n",
      " 13  GrLivArea                821 non-null    float64\n",
      " 14  GrLivArea^2              821 non-null    float64\n",
      " 15  GrLivArea^3              821 non-null    float64\n",
      " 16  OverallQual_2ndFlrSF     821 non-null    float64\n",
      " 17  OverallQual_2ndFlrSF^2   821 non-null    float64\n",
      " 18  OverallQual_2ndFlrSF^3   821 non-null    float64\n",
      " 19  LotArea_Fireplaces       821 non-null    float64\n",
      " 20  LotArea_Fireplaces^2     821 non-null    float64\n",
      " 21  LotArea_Fireplaces^3     821 non-null    float64\n",
      " 22  LotArea_Fireplaces^4     821 non-null    float64\n",
      " 23  OverallQual              821 non-null    float64\n",
      " 24  OverallQual^2            821 non-null    float64\n",
      " 25  OverallQual^3            821 non-null    float64\n",
      "dtypes: float64(26)\n",
      "memory usage: 166.9 KB\n"
     ]
    }
   ],
   "source": [
    "# Your code here\n",
    "X_train.info()"
   ]
  },
  {
   "cell_type": "code",
   "execution_count": 21,
   "metadata": {},
   "outputs": [
    {
     "data": {
      "text/html": [
       "<div>\n",
       "<style scoped>\n",
       "    .dataframe tbody tr th:only-of-type {\n",
       "        vertical-align: middle;\n",
       "    }\n",
       "\n",
       "    .dataframe tbody tr th {\n",
       "        vertical-align: top;\n",
       "    }\n",
       "\n",
       "    .dataframe thead th {\n",
       "        text-align: right;\n",
       "    }\n",
       "</style>\n",
       "<table border=\"1\" class=\"dataframe\">\n",
       "  <thead>\n",
       "    <tr style=\"text-align: right;\">\n",
       "      <th></th>\n",
       "      <th>LotArea</th>\n",
       "      <th>OverallCond</th>\n",
       "      <th>TotalBsmtSF</th>\n",
       "      <th>1stFlrSF</th>\n",
       "      <th>2ndFlrSF</th>\n",
       "      <th>TotRmsAbvGrd</th>\n",
       "      <th>GarageArea</th>\n",
       "      <th>Fireplaces</th>\n",
       "      <th>LotArea_1stFlrSF</th>\n",
       "      <th>LotArea_TotalBsmtSF</th>\n",
       "      <th>...</th>\n",
       "      <th>OverallQual_2ndFlrSF</th>\n",
       "      <th>OverallQual_2ndFlrSF^2</th>\n",
       "      <th>OverallQual_2ndFlrSF^3</th>\n",
       "      <th>LotArea_Fireplaces</th>\n",
       "      <th>LotArea_Fireplaces^2</th>\n",
       "      <th>LotArea_Fireplaces^3</th>\n",
       "      <th>LotArea_Fireplaces^4</th>\n",
       "      <th>OverallQual</th>\n",
       "      <th>OverallQual^2</th>\n",
       "      <th>OverallQual^3</th>\n",
       "    </tr>\n",
       "  </thead>\n",
       "  <tbody>\n",
       "    <tr>\n",
       "      <th>0</th>\n",
       "      <td>-0.114710</td>\n",
       "      <td>-0.509252</td>\n",
       "      <td>-0.639316</td>\n",
       "      <td>-0.804789</td>\n",
       "      <td>1.261552</td>\n",
       "      <td>0.250689</td>\n",
       "      <td>0.327629</td>\n",
       "      <td>-0.994820</td>\n",
       "      <td>0.092318</td>\n",
       "      <td>0.073336</td>\n",
       "      <td>...</td>\n",
       "      <td>-0.125956</td>\n",
       "      <td>0.015865</td>\n",
       "      <td>-0.001998</td>\n",
       "      <td>0.114116</td>\n",
       "      <td>0.013022</td>\n",
       "      <td>0.001486</td>\n",
       "      <td>1.695855e-04</td>\n",
       "      <td>-0.099842</td>\n",
       "      <td>0.009968</td>\n",
       "      <td>-0.000995</td>\n",
       "    </tr>\n",
       "    <tr>\n",
       "      <th>1</th>\n",
       "      <td>-0.176719</td>\n",
       "      <td>-0.509252</td>\n",
       "      <td>0.838208</td>\n",
       "      <td>0.641608</td>\n",
       "      <td>-0.808132</td>\n",
       "      <td>-0.365525</td>\n",
       "      <td>0.079146</td>\n",
       "      <td>-0.994820</td>\n",
       "      <td>-0.113385</td>\n",
       "      <td>-0.148128</td>\n",
       "      <td>...</td>\n",
       "      <td>-0.510770</td>\n",
       "      <td>0.260886</td>\n",
       "      <td>-0.133253</td>\n",
       "      <td>0.175804</td>\n",
       "      <td>0.030907</td>\n",
       "      <td>0.005434</td>\n",
       "      <td>9.552459e-04</td>\n",
       "      <td>0.632038</td>\n",
       "      <td>0.399472</td>\n",
       "      <td>0.252481</td>\n",
       "    </tr>\n",
       "    <tr>\n",
       "      <th>2</th>\n",
       "      <td>-0.246336</td>\n",
       "      <td>1.304613</td>\n",
       "      <td>-0.012560</td>\n",
       "      <td>-0.329000</td>\n",
       "      <td>-0.808132</td>\n",
       "      <td>-0.981739</td>\n",
       "      <td>-1.105931</td>\n",
       "      <td>-0.994820</td>\n",
       "      <td>0.081045</td>\n",
       "      <td>0.003094</td>\n",
       "      <td>...</td>\n",
       "      <td>0.672141</td>\n",
       "      <td>0.451774</td>\n",
       "      <td>0.303656</td>\n",
       "      <td>0.245060</td>\n",
       "      <td>0.060055</td>\n",
       "      <td>0.014717</td>\n",
       "      <td>3.606557e-03</td>\n",
       "      <td>-0.831723</td>\n",
       "      <td>0.691762</td>\n",
       "      <td>-0.575354</td>\n",
       "    </tr>\n",
       "    <tr>\n",
       "      <th>3</th>\n",
       "      <td>-0.378617</td>\n",
       "      <td>1.304613</td>\n",
       "      <td>-0.339045</td>\n",
       "      <td>-0.609036</td>\n",
       "      <td>-0.808132</td>\n",
       "      <td>-0.981739</td>\n",
       "      <td>-1.134602</td>\n",
       "      <td>0.588023</td>\n",
       "      <td>0.230591</td>\n",
       "      <td>0.128368</td>\n",
       "      <td>...</td>\n",
       "      <td>0.672141</td>\n",
       "      <td>0.451774</td>\n",
       "      <td>0.303656</td>\n",
       "      <td>-0.222636</td>\n",
       "      <td>0.049567</td>\n",
       "      <td>-0.011035</td>\n",
       "      <td>2.456852e-03</td>\n",
       "      <td>-0.831723</td>\n",
       "      <td>0.691762</td>\n",
       "      <td>-0.575354</td>\n",
       "    </tr>\n",
       "    <tr>\n",
       "      <th>4</th>\n",
       "      <td>-0.010898</td>\n",
       "      <td>1.304613</td>\n",
       "      <td>-2.531499</td>\n",
       "      <td>-1.315922</td>\n",
       "      <td>0.550523</td>\n",
       "      <td>0.250689</td>\n",
       "      <td>-2.281450</td>\n",
       "      <td>-0.994820</td>\n",
       "      <td>0.014341</td>\n",
       "      <td>0.027589</td>\n",
       "      <td>...</td>\n",
       "      <td>-0.860799</td>\n",
       "      <td>0.740974</td>\n",
       "      <td>-0.637829</td>\n",
       "      <td>0.010842</td>\n",
       "      <td>0.000118</td>\n",
       "      <td>0.000001</td>\n",
       "      <td>1.381725e-08</td>\n",
       "      <td>-1.563603</td>\n",
       "      <td>2.444854</td>\n",
       "      <td>-3.822780</td>\n",
       "    </tr>\n",
       "  </tbody>\n",
       "</table>\n",
       "<p>5 rows × 26 columns</p>\n",
       "</div>"
      ],
      "text/plain": [
       "    LotArea  OverallCond  TotalBsmtSF  1stFlrSF  2ndFlrSF  TotRmsAbvGrd  \\\n",
       "0 -0.114710    -0.509252    -0.639316 -0.804789  1.261552      0.250689   \n",
       "1 -0.176719    -0.509252     0.838208  0.641608 -0.808132     -0.365525   \n",
       "2 -0.246336     1.304613    -0.012560 -0.329000 -0.808132     -0.981739   \n",
       "3 -0.378617     1.304613    -0.339045 -0.609036 -0.808132     -0.981739   \n",
       "4 -0.010898     1.304613    -2.531499 -1.315922  0.550523      0.250689   \n",
       "\n",
       "   GarageArea  Fireplaces  LotArea_1stFlrSF  LotArea_TotalBsmtSF  ...  \\\n",
       "0    0.327629   -0.994820          0.092318             0.073336  ...   \n",
       "1    0.079146   -0.994820         -0.113385            -0.148128  ...   \n",
       "2   -1.105931   -0.994820          0.081045             0.003094  ...   \n",
       "3   -1.134602    0.588023          0.230591             0.128368  ...   \n",
       "4   -2.281450   -0.994820          0.014341             0.027589  ...   \n",
       "\n",
       "   OverallQual_2ndFlrSF  OverallQual_2ndFlrSF^2  OverallQual_2ndFlrSF^3  \\\n",
       "0             -0.125956                0.015865               -0.001998   \n",
       "1             -0.510770                0.260886               -0.133253   \n",
       "2              0.672141                0.451774                0.303656   \n",
       "3              0.672141                0.451774                0.303656   \n",
       "4             -0.860799                0.740974               -0.637829   \n",
       "\n",
       "   LotArea_Fireplaces  LotArea_Fireplaces^2  LotArea_Fireplaces^3  \\\n",
       "0            0.114116              0.013022              0.001486   \n",
       "1            0.175804              0.030907              0.005434   \n",
       "2            0.245060              0.060055              0.014717   \n",
       "3           -0.222636              0.049567             -0.011035   \n",
       "4            0.010842              0.000118              0.000001   \n",
       "\n",
       "   LotArea_Fireplaces^4  OverallQual  OverallQual^2  OverallQual^3  \n",
       "0          1.695855e-04    -0.099842       0.009968      -0.000995  \n",
       "1          9.552459e-04     0.632038       0.399472       0.252481  \n",
       "2          3.606557e-03    -0.831723       0.691762      -0.575354  \n",
       "3          2.456852e-03    -0.831723       0.691762      -0.575354  \n",
       "4          1.381725e-08    -1.563603       2.444854      -3.822780  \n",
       "\n",
       "[5 rows x 26 columns]"
      ]
     },
     "execution_count": 21,
     "metadata": {},
     "output_type": "execute_result"
    }
   ],
   "source": [
    "X_train.head()"
   ]
  },
  {
   "cell_type": "markdown",
   "metadata": {},
   "source": [
    "## Full Model R-Squared"
   ]
  },
  {
   "cell_type": "markdown",
   "metadata": {},
   "source": [
    "Check out the $R^2$ of the full model with your interaction and polynomial terms added. Print this value for both the train and test data."
   ]
  },
  {
   "cell_type": "code",
   "execution_count": 22,
   "metadata": {},
   "outputs": [
    {
     "name": "stdout",
     "output_type": "stream",
     "text": [
      "Train: 0.8571817758242435\n",
      "Test: 0.6442143449159354\n"
     ]
    }
   ],
   "source": [
    "# Your code here\n",
    "linreg = LinearRegression()\n",
    "linreg.fit(X_train, y_train)\n",
    "R2_train = linreg.score(X_train, y_train)\n",
    "R2_test = linreg.score(X_test, y_test)\n",
    "print(f'Train: {R2_train}')\n",
    "print(f'Test: {R2_test}')"
   ]
  },
  {
   "cell_type": "markdown",
   "metadata": {},
   "source": [
    "It looks like we may be overfitting some now. Let's try some feature selection techniques."
   ]
  },
  {
   "cell_type": "markdown",
   "metadata": {},
   "source": [
    "## Feature Selection\n",
    "\n",
    "First, test out `RFE` ([documentation here](https://scikit-learn.org/stable/modules/generated/sklearn.feature_selection.RFE.html)) with several different `n_features_to_select` values. For each value, print out the train and test $R^2$ score and how many features remain."
   ]
  },
  {
   "cell_type": "code",
   "execution_count": 24,
   "metadata": {},
   "outputs": [
    {
     "name": "stdout",
     "output_type": "stream",
     "text": [
      "Features remaining: 5\n",
      "Train score: 0.776039994126505\n",
      "Test score: 0.6352981725272361\n",
      "\n",
      "\n",
      "Features remaining: 10\n",
      "Train score: 0.8191862278324273\n",
      "Test score: 0.6743476159860744\n",
      "\n",
      "\n",
      "Features remaining: 15\n",
      "Train score: 0.8483321237427194\n",
      "Test score: 0.7040137671087123\n",
      "\n",
      "\n"
     ]
    }
   ],
   "source": [
    "# Your code here\n",
    "\n",
    "# iterable for number of features, to test several\n",
    "features_to_select = [5, 10, 15]\n",
    "\n",
    "# loop over different choices of number of features to select\n",
    "for n in features_to_select:\n",
    "    # instantiate estimator (recursive feature elimination estimator)\n",
    "    rfe = RFE(LinearRegression(), n_features_to_select=n)\n",
    "    \n",
    "    # fit to training data\n",
    "    X_train_rfe = rfe.fit_transform(X_train, y_train)\n",
    "    X_test_rfe = rfe.transform(X_test)\n",
    "    \n",
    "    # get R2 score for a linear regression with selected features\n",
    "    # instantiate linear regression\n",
    "    lr = LinearRegression()\n",
    "    # fit to training data with selected features\n",
    "    lr.fit(X_train_rfe, y_train)\n",
    "    # get R2 scores\n",
    "    R2_train = lr.score(X_train_rfe, y_train)\n",
    "    R2_test = lr.score(X_test_rfe, y_test)\n",
    "    \n",
    "    # print message\n",
    "    print(f'Features remaining: {n}')\n",
    "    print(f'Train score: {R2_train}')\n",
    "    print(f'Test score: {R2_test}')\n",
    "    print('\\n')"
   ]
  },
  {
   "cell_type": "markdown",
   "metadata": {},
   "source": [
    "Now test out `Lasso` ([documentation here](https://scikit-learn.org/stable/modules/generated/sklearn.linear_model.Lasso.html)) with several different `alpha` values."
   ]
  },
  {
   "cell_type": "code",
   "execution_count": 27,
   "metadata": {},
   "outputs": [
    {
     "name": "stdout",
     "output_type": "stream",
     "text": [
      "Using 26 out of 26 features\n",
      "R2 = 0.6485699116355159\n",
      "\n",
      "\n",
      "Using 26 out of 26 features\n",
      "R2 = 0.6480527180183046\n",
      "\n",
      "\n",
      "Using 25 out of 26 features\n",
      "R2 = 0.6471042867008621\n",
      "\n",
      "\n",
      "Using 17 out of 26 features\n",
      "R2 = 0.72222786778698\n",
      "\n",
      "\n",
      "Using 12 out of 26 features\n",
      "R2 = 0.7939567393897815\n",
      "\n",
      "\n"
     ]
    },
    {
     "data": {
      "text/plain": [
       "[(10000, 0.7939567393897815),\n",
       " (1000, 0.72222786778698),\n",
       " (1, 0.6485699116355159),\n",
       " (10, 0.6480527180183046),\n",
       " (100, 0.6471042867008621)]"
      ]
     },
     "execution_count": 27,
     "metadata": {},
     "output_type": "execute_result"
    }
   ],
   "source": [
    "# Your code here\n",
    "alphas = [1, 10, 100, 1000, 10000]\n",
    "\n",
    "results = []\n",
    "\n",
    "for alpha in alphas:\n",
    "    # instantiate lasso regression with current alpha\n",
    "    lasso = Lasso(alpha=alpha)\n",
    "    # fit lasso regression model to training data\n",
    "    lasso.fit(X_train, y_train)\n",
    "    # append R2 score on test data to list\n",
    "    R2 = lasso.score(X_test, y_test)\n",
    "    results.append((alpha, R2))\n",
    "    # print coefficients used\n",
    "    print(f\"Using {sum(abs(lasso.coef_) >= 10**(-10))} out of {X_train.shape[1]} features\")\n",
    "    print(f'R2 = {R2}')\n",
    "    print('\\n')\n",
    "    \n",
    "sorted(results, key = lambda x: x[1], reverse=True)"
   ]
  },
  {
   "cell_type": "markdown",
   "metadata": {},
   "source": [
    "Compare the results. Which features would you choose to use?"
   ]
  },
  {
   "cell_type": "markdown",
   "metadata": {},
   "source": [
    "Lasso seems to work best here, with 12 out of 26 features and an alpha of 10,000."
   ]
  },
  {
   "cell_type": "markdown",
   "metadata": {},
   "source": [
    "## Evaluate Final Model on Validation Data\n",
    "\n",
    "### Data Preparation\n",
    "\n",
    "At the start of this lab, we created `X_val` and `y_val`. Prepare `X_val` the same way that `X_train` and `X_test` have been prepared. This includes scaling, adding interactions, and adding polynomial terms."
   ]
  },
  {
   "cell_type": "code",
   "execution_count": 28,
   "metadata": {},
   "outputs": [],
   "source": [
    "# Your code here\n",
    "\n",
    "'''apply standard scaler'''\n",
    "X_val = pd.DataFrame(scaler.transform(X_val), columns=X_val.columns)\n",
    "\n",
    "'''add interaction terms'''\n",
    "# Loop over top 7 interactions\n",
    "for pair in top_7_interactions:\n",
    "    # Extract column names from data structure\n",
    "    col1 = pair[0][0]\n",
    "    col2 = pair[0][1]\n",
    "    # Construct new column name\n",
    "    col_name = col1 + '_' + col2\n",
    "    # Add new column to X_val\n",
    "    X_val[col_name] = X_val[col1]*X_val[col2]\n",
    "\n",
    "'''add polynomial terms'''\n",
    "for (col, degree, _) in top_polynomials.values:\n",
    "    poly = PolynomialFeatures(degree, include_bias=False)\n",
    "    col_transformed_val = pd.DataFrame(poly.fit_transform(X_val[[col]]),\n",
    "                                        columns=poly.get_feature_names([col]))\n",
    "    X_val = pd.concat([X_val.drop(col, axis=1), col_transformed_val], axis=1)"
   ]
  },
  {
   "cell_type": "markdown",
   "metadata": {},
   "source": [
    "### Evaluation"
   ]
  },
  {
   "cell_type": "markdown",
   "metadata": {},
   "source": [
    "Using either `RFE` or `Lasso`, fit a model on the complete train + test set, then find R-Squared and MSE values for the validation set."
   ]
  },
  {
   "cell_type": "code",
   "execution_count": 29,
   "metadata": {},
   "outputs": [
    {
     "name": "stdout",
     "output_type": "stream",
     "text": [
      "R2: 0.7991273457324125\n",
      "MSE: 1407175023.3081572\n"
     ]
    }
   ],
   "source": [
    "# Your code here\n",
    "lasso = Lasso(alpha=10000)\n",
    "lasso.fit(pd.concat([X_train, X_test]), pd.concat([y_train, y_test]))\n",
    "\n",
    "print(f'R2: {lasso.score(X_val, y_val)}')\n",
    "print(f'MSE: {mean_squared_error(y_val, lasso.predict(X_val))}')"
   ]
  },
  {
   "cell_type": "markdown",
   "metadata": {},
   "source": [
    "## Level Up Ideas (Optional)\n",
    "\n",
    "### Create a Lasso Path\n",
    "\n",
    "From this section, you know that when using `Lasso`, more parameters shrink to zero as your regularization parameter goes up. In scikit-learn there is a function `lasso_path()` which visualizes the shrinkage of the coefficients while $alpha$ changes. Try this out yourself!\n",
    "\n",
    "https://scikit-learn.org/stable/auto_examples/linear_model/plot_lasso_coordinate_descent_path.html#sphx-glr-auto-examples-linear-model-plot-lasso-coordinate-descent-path-py\n",
    "\n",
    "### AIC and BIC for Subset Selection\n",
    "\n",
    "This notebook shows how you can use AIC and BIC purely for feature selection. Try this code out on our Ames housing data!\n",
    "\n",
    "https://xavierbourretsicotte.github.io/subset_selection.html"
   ]
  },
  {
   "cell_type": "markdown",
   "metadata": {},
   "source": [
    "## Summary"
   ]
  },
  {
   "cell_type": "markdown",
   "metadata": {},
   "source": [
    "Congratulations! You now know how to apply concepts of bias-variance tradeoff using extensions to linear models and feature selection."
   ]
  }
 ],
 "metadata": {
  "kernelspec": {
   "display_name": "Python (learn-env)",
   "language": "python",
   "name": "learn-env"
  },
  "language_info": {
   "codemirror_mode": {
    "name": "ipython",
    "version": 3
   },
   "file_extension": ".py",
   "mimetype": "text/x-python",
   "name": "python",
   "nbconvert_exporter": "python",
   "pygments_lexer": "ipython3",
   "version": "3.8.5"
  },
  "toc": {
   "base_numbering": 1,
   "nav_menu": {},
   "number_sections": true,
   "sideBar": true,
   "skip_h1_title": false,
   "title_cell": "Table of Contents",
   "title_sidebar": "Contents",
   "toc_cell": false,
   "toc_position": {},
   "toc_section_display": true,
   "toc_window_display": false
  }
 },
 "nbformat": 4,
 "nbformat_minor": 2
}
